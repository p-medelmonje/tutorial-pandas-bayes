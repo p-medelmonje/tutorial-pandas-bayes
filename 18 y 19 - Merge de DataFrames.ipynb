{
 "cells": [
  {
   "cell_type": "markdown",
   "id": "5d86890a",
   "metadata": {},
   "source": [
    "## 18 - Cómo hacer Merge de DataFrames"
   ]
  },
  {
   "cell_type": "code",
   "execution_count": 1,
   "id": "b600b217",
   "metadata": {},
   "outputs": [],
   "source": [
    "import pandas as pd"
   ]
  },
  {
   "cell_type": "code",
   "execution_count": 2,
   "id": "b587d2d5",
   "metadata": {},
   "outputs": [
    {
     "name": "stdout",
     "output_type": "stream",
     "text": [
      "                 Role\n",
      "Name                 \n",
      "Kelly  Director of HR\n",
      "Sally  Course liasion\n",
      "James          Grader\n",
      "            School\n",
      "Name              \n",
      "James     Business\n",
      "Mike           Law\n",
      "Sally  Engineering\n"
     ]
    }
   ],
   "source": [
    "# Creación de dataset\n",
    "\n",
    "staff_df = pd.DataFrame([{\"Name\": \"Kelly\", \"Role\": \"Director of HR\"},\n",
    "                          {\"Name\": \"Sally\", \"Role\": \"Course liasion\"},\n",
    "                          {\"Name\": \"James\", \"Role\": \"Grader\"}])\n",
    "\n",
    "staff_df = staff_df.set_index(\"Name\")\n",
    "\n",
    "student_df = pd.DataFrame([{\"Name\": \"James\", \"School\": \"Business\"},\n",
    "                           {\"Name\": \"Mike\", \"School\": \"Law\"},\n",
    "                          {\"Name\": \"Sally\", \"School\": \"Engineering\"}])\n",
    "\n",
    "student_df = student_df.set_index(\"Name\")\n",
    "\n",
    "print(staff_df.head())\n",
    "print(student_df.head())"
   ]
  },
  {
   "cell_type": "markdown",
   "id": "2a56d62d",
   "metadata": {},
   "source": [
    "### Outer"
   ]
  },
  {
   "cell_type": "code",
   "execution_count": 4,
   "id": "a32a01b4",
   "metadata": {},
   "outputs": [
    {
     "data": {
      "text/html": [
       "<div>\n",
       "<style scoped>\n",
       "    .dataframe tbody tr th:only-of-type {\n",
       "        vertical-align: middle;\n",
       "    }\n",
       "\n",
       "    .dataframe tbody tr th {\n",
       "        vertical-align: top;\n",
       "    }\n",
       "\n",
       "    .dataframe thead th {\n",
       "        text-align: right;\n",
       "    }\n",
       "</style>\n",
       "<table border=\"1\" class=\"dataframe\">\n",
       "  <thead>\n",
       "    <tr style=\"text-align: right;\">\n",
       "      <th></th>\n",
       "      <th>Role</th>\n",
       "      <th>School</th>\n",
       "    </tr>\n",
       "    <tr>\n",
       "      <th>Name</th>\n",
       "      <th></th>\n",
       "      <th></th>\n",
       "    </tr>\n",
       "  </thead>\n",
       "  <tbody>\n",
       "    <tr>\n",
       "      <th>James</th>\n",
       "      <td>Grader</td>\n",
       "      <td>Business</td>\n",
       "    </tr>\n",
       "    <tr>\n",
       "      <th>Kelly</th>\n",
       "      <td>Director of HR</td>\n",
       "      <td>NaN</td>\n",
       "    </tr>\n",
       "    <tr>\n",
       "      <th>Mike</th>\n",
       "      <td>NaN</td>\n",
       "      <td>Law</td>\n",
       "    </tr>\n",
       "    <tr>\n",
       "      <th>Sally</th>\n",
       "      <td>Course liasion</td>\n",
       "      <td>Engineering</td>\n",
       "    </tr>\n",
       "  </tbody>\n",
       "</table>\n",
       "</div>"
      ],
      "text/plain": [
       "                 Role       School\n",
       "Name                              \n",
       "James          Grader     Business\n",
       "Kelly  Director of HR          NaN\n",
       "Mike              NaN          Law\n",
       "Sally  Course liasion  Engineering"
      ]
     },
     "execution_count": 4,
     "metadata": {},
     "output_type": "execute_result"
    }
   ],
   "source": [
    "# Aquí obtenemos un dataset con todos los registros de los dos dataset\n",
    "\n",
    "pd.merge(staff_df, student_df, how = \"outer\", left_index = True, right_index = True)\n",
    "\n",
    "# pandas reconoce que James y Sally están en ambos datasets, y coloca a cada uno en una\n",
    "# sola fila y ambas columnas. Por su parte, Kelly y Mike solo tienen valores en una sola\n",
    "# columna cada uno, quedando un NaN en la otra columna."
   ]
  },
  {
   "cell_type": "markdown",
   "id": "a9f4499d",
   "metadata": {},
   "source": [
    "### Inner"
   ]
  },
  {
   "cell_type": "code",
   "execution_count": 5,
   "id": "bcd34e4b",
   "metadata": {},
   "outputs": [
    {
     "data": {
      "text/html": [
       "<div>\n",
       "<style scoped>\n",
       "    .dataframe tbody tr th:only-of-type {\n",
       "        vertical-align: middle;\n",
       "    }\n",
       "\n",
       "    .dataframe tbody tr th {\n",
       "        vertical-align: top;\n",
       "    }\n",
       "\n",
       "    .dataframe thead th {\n",
       "        text-align: right;\n",
       "    }\n",
       "</style>\n",
       "<table border=\"1\" class=\"dataframe\">\n",
       "  <thead>\n",
       "    <tr style=\"text-align: right;\">\n",
       "      <th></th>\n",
       "      <th>Role</th>\n",
       "      <th>School</th>\n",
       "    </tr>\n",
       "    <tr>\n",
       "      <th>Name</th>\n",
       "      <th></th>\n",
       "      <th></th>\n",
       "    </tr>\n",
       "  </thead>\n",
       "  <tbody>\n",
       "    <tr>\n",
       "      <th>Sally</th>\n",
       "      <td>Course liasion</td>\n",
       "      <td>Engineering</td>\n",
       "    </tr>\n",
       "    <tr>\n",
       "      <th>James</th>\n",
       "      <td>Grader</td>\n",
       "      <td>Business</td>\n",
       "    </tr>\n",
       "  </tbody>\n",
       "</table>\n",
       "</div>"
      ],
      "text/plain": [
       "                 Role       School\n",
       "Name                              \n",
       "Sally  Course liasion  Engineering\n",
       "James          Grader     Business"
      ]
     },
     "execution_count": 5,
     "metadata": {},
     "output_type": "execute_result"
    }
   ],
   "source": [
    "\"\"\"Aquí obtenemos un dataset con los registros en común en ambos dataset.\n",
    "Se devuelve un DataFrame solo con Sally y James, ya que esos dos registros tienen\n",
    "valores en ambos datasets\"\"\"\n",
    "\n",
    "pd.merge(staff_df, student_df, how = \"inner\", left_index = True, right_index = True)"
   ]
  },
  {
   "cell_type": "markdown",
   "id": "e6a2b649",
   "metadata": {},
   "source": [
    "### Left"
   ]
  },
  {
   "cell_type": "code",
   "execution_count": 7,
   "id": "4b945028",
   "metadata": {},
   "outputs": [
    {
     "data": {
      "text/html": [
       "<div>\n",
       "<style scoped>\n",
       "    .dataframe tbody tr th:only-of-type {\n",
       "        vertical-align: middle;\n",
       "    }\n",
       "\n",
       "    .dataframe tbody tr th {\n",
       "        vertical-align: top;\n",
       "    }\n",
       "\n",
       "    .dataframe thead th {\n",
       "        text-align: right;\n",
       "    }\n",
       "</style>\n",
       "<table border=\"1\" class=\"dataframe\">\n",
       "  <thead>\n",
       "    <tr style=\"text-align: right;\">\n",
       "      <th></th>\n",
       "      <th>Role</th>\n",
       "      <th>School</th>\n",
       "    </tr>\n",
       "    <tr>\n",
       "      <th>Name</th>\n",
       "      <th></th>\n",
       "      <th></th>\n",
       "    </tr>\n",
       "  </thead>\n",
       "  <tbody>\n",
       "    <tr>\n",
       "      <th>Kelly</th>\n",
       "      <td>Director of HR</td>\n",
       "      <td>NaN</td>\n",
       "    </tr>\n",
       "    <tr>\n",
       "      <th>Sally</th>\n",
       "      <td>Course liasion</td>\n",
       "      <td>Engineering</td>\n",
       "    </tr>\n",
       "    <tr>\n",
       "      <th>James</th>\n",
       "      <td>Grader</td>\n",
       "      <td>Business</td>\n",
       "    </tr>\n",
       "  </tbody>\n",
       "</table>\n",
       "</div>"
      ],
      "text/plain": [
       "                 Role       School\n",
       "Name                              \n",
       "Kelly  Director of HR          NaN\n",
       "Sally  Course liasion  Engineering\n",
       "James          Grader     Business"
      ]
     },
     "execution_count": 7,
     "metadata": {},
     "output_type": "execute_result"
    }
   ],
   "source": [
    "\"\"\"Aquí obtenemos un dataset con los registros del dataset izquierdo y con la información\n",
    "de las columnas correspondientes del dataset derecho. En este caso, los nombres a verse\n",
    "serían los de Kelly, Sally y James\"\"\"\n",
    "\n",
    "pd.merge(staff_df, student_df, how = \"left\", left_index = True, right_index = True)"
   ]
  },
  {
   "cell_type": "markdown",
   "id": "5a8fc10e",
   "metadata": {},
   "source": [
    "### Right"
   ]
  },
  {
   "cell_type": "code",
   "execution_count": 8,
   "id": "a16ac1a1",
   "metadata": {},
   "outputs": [
    {
     "data": {
      "text/html": [
       "<div>\n",
       "<style scoped>\n",
       "    .dataframe tbody tr th:only-of-type {\n",
       "        vertical-align: middle;\n",
       "    }\n",
       "\n",
       "    .dataframe tbody tr th {\n",
       "        vertical-align: top;\n",
       "    }\n",
       "\n",
       "    .dataframe thead th {\n",
       "        text-align: right;\n",
       "    }\n",
       "</style>\n",
       "<table border=\"1\" class=\"dataframe\">\n",
       "  <thead>\n",
       "    <tr style=\"text-align: right;\">\n",
       "      <th></th>\n",
       "      <th>Role</th>\n",
       "      <th>School</th>\n",
       "    </tr>\n",
       "    <tr>\n",
       "      <th>Name</th>\n",
       "      <th></th>\n",
       "      <th></th>\n",
       "    </tr>\n",
       "  </thead>\n",
       "  <tbody>\n",
       "    <tr>\n",
       "      <th>James</th>\n",
       "      <td>Grader</td>\n",
       "      <td>Business</td>\n",
       "    </tr>\n",
       "    <tr>\n",
       "      <th>Mike</th>\n",
       "      <td>NaN</td>\n",
       "      <td>Law</td>\n",
       "    </tr>\n",
       "    <tr>\n",
       "      <th>Sally</th>\n",
       "      <td>Course liasion</td>\n",
       "      <td>Engineering</td>\n",
       "    </tr>\n",
       "  </tbody>\n",
       "</table>\n",
       "</div>"
      ],
      "text/plain": [
       "                 Role       School\n",
       "Name                              \n",
       "James          Grader     Business\n",
       "Mike              NaN          Law\n",
       "Sally  Course liasion  Engineering"
      ]
     },
     "execution_count": 8,
     "metadata": {},
     "output_type": "execute_result"
    }
   ],
   "source": [
    "\"\"\"Aquí obtenemos un dataset con los registros del dataset derecho y con la información\n",
    "de las columnas correspondientes del dataset izquierdo. En este caso, los nombres a verse\n",
    "serían los de James, Mike y Sally\"\"\"\n",
    "\n",
    "pd.merge(staff_df, student_df, how = \"right\", left_index = True, right_index = True)"
   ]
  },
  {
   "cell_type": "markdown",
   "id": "88fa81db",
   "metadata": {},
   "source": [
    "### Right sin index"
   ]
  },
  {
   "cell_type": "code",
   "execution_count": 9,
   "id": "f4cdee17",
   "metadata": {},
   "outputs": [],
   "source": [
    "# Eliminamos los índices asignados previamente en los dos dataset\n",
    "\n",
    "staff_df = staff_df.reset_index()\n",
    "student_df = student_df.reset_index()"
   ]
  },
  {
   "cell_type": "code",
   "execution_count": 10,
   "id": "10ea5f64",
   "metadata": {},
   "outputs": [
    {
     "data": {
      "text/html": [
       "<div>\n",
       "<style scoped>\n",
       "    .dataframe tbody tr th:only-of-type {\n",
       "        vertical-align: middle;\n",
       "    }\n",
       "\n",
       "    .dataframe tbody tr th {\n",
       "        vertical-align: top;\n",
       "    }\n",
       "\n",
       "    .dataframe thead th {\n",
       "        text-align: right;\n",
       "    }\n",
       "</style>\n",
       "<table border=\"1\" class=\"dataframe\">\n",
       "  <thead>\n",
       "    <tr style=\"text-align: right;\">\n",
       "      <th></th>\n",
       "      <th>Name</th>\n",
       "      <th>Role</th>\n",
       "      <th>School</th>\n",
       "    </tr>\n",
       "  </thead>\n",
       "  <tbody>\n",
       "    <tr>\n",
       "      <th>0</th>\n",
       "      <td>James</td>\n",
       "      <td>Grader</td>\n",
       "      <td>Business</td>\n",
       "    </tr>\n",
       "    <tr>\n",
       "      <th>1</th>\n",
       "      <td>Mike</td>\n",
       "      <td>NaN</td>\n",
       "      <td>Law</td>\n",
       "    </tr>\n",
       "    <tr>\n",
       "      <th>2</th>\n",
       "      <td>Sally</td>\n",
       "      <td>Course liasion</td>\n",
       "      <td>Engineering</td>\n",
       "    </tr>\n",
       "  </tbody>\n",
       "</table>\n",
       "</div>"
      ],
      "text/plain": [
       "    Name            Role       School\n",
       "0  James          Grader     Business\n",
       "1   Mike             NaN          Law\n",
       "2  Sally  Course liasion  Engineering"
      ]
     },
     "execution_count": 10,
     "metadata": {},
     "output_type": "execute_result"
    }
   ],
   "source": [
    "# Aquí obtenemos un dataset con los registros del dataset derecho y con la información\n",
    "# de las columnas correspondientes del dataset izquierdo\n",
    "\n",
    "pd.merge(staff_df, student_df, how = \"right\", on = \"Name\")"
   ]
  },
  {
   "cell_type": "markdown",
   "id": "2a08f9b6",
   "metadata": {},
   "source": [
    "___"
   ]
  },
  {
   "cell_type": "markdown",
   "id": "f18d910a",
   "metadata": {},
   "source": [
    "## 19 - Parte 2"
   ]
  },
  {
   "cell_type": "markdown",
   "id": "8195957d",
   "metadata": {},
   "source": [
    "### Creación de otros dataset"
   ]
  },
  {
   "cell_type": "code",
   "execution_count": 13,
   "id": "9ccf2b8b",
   "metadata": {},
   "outputs": [],
   "source": [
    "staff_df_2 = pd.DataFrame([{\"Name\": \"Kelly\", \"Role\": \"Director of HR\", \"Location\": \"State Street\"},\n",
    "                          {\"Name\": \"Sally\", \"Role\": \"Course liation\", \"Location\": \"Washington Avenue\"},\n",
    "                          {\"Name\": \"James\", \"Role\": \"Grader\", \"Location\": \"Washington Avenue\"}])\n",
    "\n",
    "student_df_2 = pd.DataFrame([{\"Name\": \"James\", \"School\": \"Business\", \"Location\": \"1024 Billiard Avenue\"},\n",
    "                          {\"Name\": \"Mike\", \"School\": \"Law\", \"Location\": \"Fraternity House #22\"},\n",
    "                          {\"Name\": \"Sally\", \"School\": \"Engineering\", \"Location\": \"512 Wilson Crescent\"}])"
   ]
  },
  {
   "cell_type": "markdown",
   "id": "be64ea9b",
   "metadata": {},
   "source": [
    "### Left sin Index"
   ]
  },
  {
   "cell_type": "code",
   "execution_count": 14,
   "id": "3d1137b5",
   "metadata": {},
   "outputs": [
    {
     "data": {
      "text/html": [
       "<div>\n",
       "<style scoped>\n",
       "    .dataframe tbody tr th:only-of-type {\n",
       "        vertical-align: middle;\n",
       "    }\n",
       "\n",
       "    .dataframe tbody tr th {\n",
       "        vertical-align: top;\n",
       "    }\n",
       "\n",
       "    .dataframe thead th {\n",
       "        text-align: right;\n",
       "    }\n",
       "</style>\n",
       "<table border=\"1\" class=\"dataframe\">\n",
       "  <thead>\n",
       "    <tr style=\"text-align: right;\">\n",
       "      <th></th>\n",
       "      <th>Name</th>\n",
       "      <th>Role</th>\n",
       "      <th>Location_x</th>\n",
       "      <th>School</th>\n",
       "      <th>Location_y</th>\n",
       "    </tr>\n",
       "  </thead>\n",
       "  <tbody>\n",
       "    <tr>\n",
       "      <th>0</th>\n",
       "      <td>Kelly</td>\n",
       "      <td>Director of HR</td>\n",
       "      <td>State Street</td>\n",
       "      <td>NaN</td>\n",
       "      <td>NaN</td>\n",
       "    </tr>\n",
       "    <tr>\n",
       "      <th>1</th>\n",
       "      <td>Sally</td>\n",
       "      <td>Course Ilation</td>\n",
       "      <td>Washington Avenue</td>\n",
       "      <td>Engineering</td>\n",
       "      <td>512 Wilson Crescent</td>\n",
       "    </tr>\n",
       "    <tr>\n",
       "      <th>2</th>\n",
       "      <td>James</td>\n",
       "      <td>Grader</td>\n",
       "      <td>Washington Avenue</td>\n",
       "      <td>Business</td>\n",
       "      <td>1024 Billiard Avenue</td>\n",
       "    </tr>\n",
       "  </tbody>\n",
       "</table>\n",
       "</div>"
      ],
      "text/plain": [
       "    Name            Role         Location_x       School            Location_y\n",
       "0  Kelly  Director of HR       State Street          NaN                   NaN\n",
       "1  Sally  Course Ilation  Washington Avenue  Engineering   512 Wilson Crescent\n",
       "2  James          Grader  Washington Avenue     Business  1024 Billiard Avenue"
      ]
     },
     "execution_count": 14,
     "metadata": {},
     "output_type": "execute_result"
    }
   ],
   "source": [
    "# Aquí obtenemos el dataset con los registros del dataset izquiero y con la información \n",
    "# que corresponde de las columnas del dataset derecho\n",
    "\n",
    "pd.merge(staff_df_2, student_df_2, how = \"left\", on = \"Name\")"
   ]
  },
  {
   "cell_type": "markdown",
   "id": "d5832095",
   "metadata": {},
   "source": [
    "### Creación de otros dataset"
   ]
  },
  {
   "cell_type": "code",
   "execution_count": 17,
   "id": "2f1ded42",
   "metadata": {},
   "outputs": [],
   "source": [
    "staff_df_3 = pd.DataFrame([{\"First Name\": \"Kelly\", \"Last Name\": \"Desjardins\", \"Role\": \"Director of HR\"},\n",
    "                          {\"First Name\": \"Sally\", \"Last Name\": \"Brooks\", \"Role\": \"Course liasion\"},\n",
    "                          {\"First Name\": \"James\", \"Last Name\": \"Wilde\", \"Role\": \"Grader\"}])\n",
    "\n",
    "student_df_3 = pd.DataFrame([{\"First Name\": \"James\", \"Last Name\": \"Hammond\", \"School\": \"Business\"},\n",
    "                            {\"First Name\": \"Mike\", \"Last Name\": \"Smith\", \"School\": \"Law\"},\n",
    "                            {\"First Name\": \"Sally\", \"Last Name\": \"Brooks\", \"School\": \"Engineering\"}])"
   ]
  },
  {
   "cell_type": "markdown",
   "id": "36373289",
   "metadata": {},
   "source": [
    "### Inner con lista"
   ]
  },
  {
   "cell_type": "code",
   "execution_count": 25,
   "id": "e055bd93",
   "metadata": {},
   "outputs": [
    {
     "data": {
      "text/html": [
       "<div>\n",
       "<style scoped>\n",
       "    .dataframe tbody tr th:only-of-type {\n",
       "        vertical-align: middle;\n",
       "    }\n",
       "\n",
       "    .dataframe tbody tr th {\n",
       "        vertical-align: top;\n",
       "    }\n",
       "\n",
       "    .dataframe thead th {\n",
       "        text-align: right;\n",
       "    }\n",
       "</style>\n",
       "<table border=\"1\" class=\"dataframe\">\n",
       "  <thead>\n",
       "    <tr style=\"text-align: right;\">\n",
       "      <th></th>\n",
       "      <th>First Name</th>\n",
       "      <th>Last Name</th>\n",
       "      <th>Role</th>\n",
       "      <th>School</th>\n",
       "    </tr>\n",
       "  </thead>\n",
       "  <tbody>\n",
       "    <tr>\n",
       "      <th>0</th>\n",
       "      <td>Sally</td>\n",
       "      <td>Brooks</td>\n",
       "      <td>Course liasion</td>\n",
       "      <td>Engineering</td>\n",
       "    </tr>\n",
       "  </tbody>\n",
       "</table>\n",
       "</div>"
      ],
      "text/plain": [
       "  First Name Last Name            Role       School\n",
       "0      Sally    Brooks  Course liasion  Engineering"
      ]
     },
     "execution_count": 25,
     "metadata": {},
     "output_type": "execute_result"
    }
   ],
   "source": [
    "# Aquí creamos un dataframe en donde se ubican los registros exactos según la lista\n",
    "\n",
    "pd.merge(staff_df_3, student_df_3, how = \"inner\", on = [\"First Name\", \"Last Name\"])\n",
    "\n",
    "# Solo muestra a Sally Brooks, ya que es el único registro que tiene los mismos datos en ambos datasets"
   ]
  }
 ],
 "metadata": {
  "kernelspec": {
   "display_name": "Python 3",
   "language": "python",
   "name": "python3"
  },
  "language_info": {
   "codemirror_mode": {
    "name": "ipython",
    "version": 3
   },
   "file_extension": ".py",
   "mimetype": "text/x-python",
   "name": "python",
   "nbconvert_exporter": "python",
   "pygments_lexer": "ipython3",
   "version": "3.9.7"
  }
 },
 "nbformat": 4,
 "nbformat_minor": 5
}
