{
 "cells": [
  {
   "cell_type": "markdown",
   "id": "3914a060",
   "metadata": {},
   "source": [
    "### Filtrar un DataFrame con dos criterios"
   ]
  },
  {
   "cell_type": "code",
   "execution_count": 1,
   "id": "6d72dba0",
   "metadata": {},
   "outputs": [],
   "source": [
    "import pandas as pd"
   ]
  },
  {
   "cell_type": "code",
   "execution_count": 8,
   "id": "f1857d29",
   "metadata": {
    "scrolled": true
   },
   "outputs": [],
   "source": [
    "fifa20 = pd.read_csv(filepath_or_buffer = \"players_20.csv\")"
   ]
  },
  {
   "cell_type": "code",
   "execution_count": 5,
   "id": "1bbfe208",
   "metadata": {},
   "outputs": [
    {
     "data": {
      "text/plain": [
       "(18278, 104)"
      ]
     },
     "execution_count": 5,
     "metadata": {},
     "output_type": "execute_result"
    }
   ],
   "source": [
    "fifa20.shape"
   ]
  },
  {
   "cell_type": "code",
   "execution_count": 7,
   "id": "38b63c1f",
   "metadata": {},
   "outputs": [],
   "source": [
    "# Creación de otro dataset\n",
    "\n",
    "fifa20_1 = fifa20[[\"short_name\", \"age\", \"height_cm\", \"weight_kg\", \"club\",\n",
    "                   \"overall\", \"potential\", \"value_eur\", \"wage_eur\",\n",
    "                   \"player_positions\", \"power_jumping\", \"power_long_shots\"]]"
   ]
  },
  {
   "cell_type": "code",
   "execution_count": 9,
   "id": "7d26dda7",
   "metadata": {},
   "outputs": [
    {
     "data": {
      "text/plain": [
       "(18278, 12)"
      ]
     },
     "execution_count": 9,
     "metadata": {},
     "output_type": "execute_result"
    }
   ],
   "source": [
    "fifa20_1.shape"
   ]
  },
  {
   "cell_type": "code",
   "execution_count": 11,
   "id": "fbd6af94",
   "metadata": {
    "scrolled": true
   },
   "outputs": [
    {
     "data": {
      "text/plain": [
       "Index(['short_name', 'age', 'height_cm', 'weight_kg', 'club', 'overall',\n",
       "       'potential', 'value_eur', 'wage_eur', 'player_positions',\n",
       "       'power_jumping', 'power_long_shots'],\n",
       "      dtype='object')"
      ]
     },
     "execution_count": 11,
     "metadata": {},
     "output_type": "execute_result"
    }
   ],
   "source": [
    "fifa20_1.columns"
   ]
  },
  {
   "cell_type": "code",
   "execution_count": 14,
   "id": "cbbe7410",
   "metadata": {},
   "outputs": [
    {
     "data": {
      "text/html": [
       "<div>\n",
       "<style scoped>\n",
       "    .dataframe tbody tr th:only-of-type {\n",
       "        vertical-align: middle;\n",
       "    }\n",
       "\n",
       "    .dataframe tbody tr th {\n",
       "        vertical-align: top;\n",
       "    }\n",
       "\n",
       "    .dataframe thead th {\n",
       "        text-align: right;\n",
       "    }\n",
       "</style>\n",
       "<table border=\"1\" class=\"dataframe\">\n",
       "  <thead>\n",
       "    <tr style=\"text-align: right;\">\n",
       "      <th></th>\n",
       "      <th>short_name</th>\n",
       "      <th>age</th>\n",
       "      <th>height_cm</th>\n",
       "      <th>weight_kg</th>\n",
       "      <th>club</th>\n",
       "      <th>overall</th>\n",
       "      <th>potential</th>\n",
       "      <th>value_eur</th>\n",
       "      <th>wage_eur</th>\n",
       "      <th>player_positions</th>\n",
       "      <th>power_jumping</th>\n",
       "      <th>power_long_shots</th>\n",
       "    </tr>\n",
       "  </thead>\n",
       "  <tbody>\n",
       "    <tr>\n",
       "      <th>84</th>\n",
       "      <td>C. Lenglet</td>\n",
       "      <td>24</td>\n",
       "      <td>186</td>\n",
       "      <td>81</td>\n",
       "      <td>FC Barcelona</td>\n",
       "      <td>85</td>\n",
       "      <td>89</td>\n",
       "      <td>45000000</td>\n",
       "      <td>175000</td>\n",
       "      <td>CB</td>\n",
       "      <td>86</td>\n",
       "      <td>46</td>\n",
       "    </tr>\n",
       "  </tbody>\n",
       "</table>\n",
       "</div>"
      ],
      "text/plain": [
       "    short_name  age  height_cm  weight_kg          club  overall  potential  \\\n",
       "84  C. Lenglet   24        186         81  FC Barcelona       85         89   \n",
       "\n",
       "    value_eur  wage_eur player_positions  power_jumping  power_long_shots  \n",
       "84   45000000    175000               CB             86                46  "
      ]
     },
     "execution_count": 14,
     "metadata": {},
     "output_type": "execute_result"
    }
   ],
   "source": [
    "# Doble filtro en una misma línea de código para crear un datset con los criterios deseados. \n",
    "# En este caso, es un dataset con los jugadores del Barcelona con una edad de 24 años.\n",
    "\n",
    "barcelona_final = fifa20_1[(fifa20_1[\"club\"] == \"FC Barcelona\") & (fifa20_1[\"age\"] == 24)]\n",
    "barcelona_final.head()"
   ]
  }
 ],
 "metadata": {
  "kernelspec": {
   "display_name": "Python 3",
   "language": "python",
   "name": "python3"
  },
  "language_info": {
   "codemirror_mode": {
    "name": "ipython",
    "version": 3
   },
   "file_extension": ".py",
   "mimetype": "text/x-python",
   "name": "python",
   "nbconvert_exporter": "python",
   "pygments_lexer": "ipython3",
   "version": "3.9.7"
  }
 },
 "nbformat": 4,
 "nbformat_minor": 5
}
